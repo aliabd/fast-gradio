{
 "cells": [
  {
   "cell_type": "markdown",
   "id": "ae4f776b",
   "metadata": {},
   "source": [
    "# Building fast gradio demos with fastai"
   ]
  },
  {
   "cell_type": "markdown",
   "id": "474c5096",
   "metadata": {},
   "source": [
    "### Install `fastgradio` if you haven't \n",
    "It has two dependencies: `fastai` and `gradio`"
   ]
  },
  {
   "cell_type": "code",
   "execution_count": null,
   "id": "075a36ee",
   "metadata": {},
   "outputs": [],
   "source": [
    "# !pip install fastgradio "
   ]
  },
  {
   "cell_type": "markdown",
   "id": "1f1f2b3f",
   "metadata": {},
   "source": [
    "### Import fastai vision and build or load your learner\n",
    "For now, to save time, we won't fine tune the learner at all. It'll be enough to show the demo but won't be very accurate.."
   ]
  },
  {
   "cell_type": "code",
   "execution_count": 1,
   "id": "6848085b",
   "metadata": {},
   "outputs": [],
   "source": [
    "from fastai.vision.all import *"
   ]
  },
  {
   "cell_type": "code",
   "execution_count": 3,
   "id": "4a85d5bc",
   "metadata": {},
   "outputs": [],
   "source": [
    "path = untar_data(URLs.PETS)\n",
    "Path.BASE_PATH = path\n",
    "fname = (path/\"images\").ls()[0]\n",
    "\n",
    "pets = DataBlock(blocks = (ImageBlock, CategoryBlock),\n",
    "                 get_items=get_image_files, \n",
    "                 splitter=RandomSplitter(seed=42),\n",
    "                 get_y=using_attr(RegexLabeller(r'(.+)_\\d+.jpg$'), 'name'),\n",
    "                 item_tfms=Resize(460),\n",
    "                 batch_tfms=aug_transforms(size=224, min_scale=0.75))\n",
    "dls = pets.dataloaders(path/\"images\")\n",
    "\n",
    "learn = cnn_learner(dls, resnet34, metrics=error_rate)\n",
    "# learn.fine_tune(4)\n",
    "# learn = learn.load('pets')"
   ]
  },
  {
   "cell_type": "markdown",
   "id": "a909605f",
   "metadata": {},
   "source": [
    "### Import fastgradio and launch a demo! \n",
    "You don't need to pass in any other parameters"
   ]
  },
  {
   "cell_type": "code",
   "execution_count": 4,
   "id": "06ab7e79",
   "metadata": {},
   "outputs": [
    {
     "name": "stdout",
     "output_type": "stream",
     "text": [
      "Running locally at: http://127.0.0.1:7864/\n",
      "This share link will expire in 72 hours. If you need a permanent link, visit: https://gradio.app/introducing-hosted\n",
      "Running on External URL: https://32435.gradio.app\n",
      "Interface loading below...\n"
     ]
    },
    {
     "data": {
      "text/html": [
       "\n",
       "        <iframe\n",
       "            width=\"900\"\n",
       "            height=\"500\"\n",
       "            src=\"https://32435.gradio.app\"\n",
       "            frameborder=\"0\"\n",
       "            allowfullscreen\n",
       "        ></iframe>\n",
       "        "
      ],
      "text/plain": [
       "<IPython.lib.display.IFrame at 0x7fbf0c72a490>"
      ]
     },
     "metadata": {},
     "output_type": "display_data"
    },
    {
     "data": {
      "text/html": [],
      "text/plain": [
       "<IPython.core.display.HTML object>"
      ]
     },
     "metadata": {},
     "output_type": "display_data"
    },
    {
     "data": {
      "text/html": [],
      "text/plain": [
       "<IPython.core.display.HTML object>"
      ]
     },
     "metadata": {},
     "output_type": "display_data"
    }
   ],
   "source": [
    "from fastgradio import Demo\n",
    "\n",
    "Demo(learn).launch()"
   ]
  },
  {
   "cell_type": "markdown",
   "id": "8e6b3e41",
   "metadata": {},
   "source": [
    "But you can also add to `launch()` any parameters that [`gradio.Interface()`](https://gradio.app/docs#interface) accepts (except for `fn`, `inputs`, and `outputs`). For example below we'll add a title, description, and examples."
   ]
  },
  {
   "cell_type": "code",
   "execution_count": 6,
   "id": "82ddb1f4",
   "metadata": {},
   "outputs": [
    {
     "name": "stdout",
     "output_type": "stream",
     "text": [
      "Running locally at: http://127.0.0.1:7866/\n",
      "This share link will expire in 72 hours. If you need a permanent link, visit: https://gradio.app/introducing-hosted\n",
      "Running on External URL: https://33072.gradio.app\n",
      "Interface loading below...\n"
     ]
    },
    {
     "data": {
      "text/html": [
       "\n",
       "        <iframe\n",
       "            width=\"900\"\n",
       "            height=\"500\"\n",
       "            src=\"https://33072.gradio.app\"\n",
       "            frameborder=\"0\"\n",
       "            allowfullscreen\n",
       "        ></iframe>\n",
       "        "
      ],
      "text/plain": [
       "<IPython.lib.display.IFrame at 0x7fbef1988190>"
      ]
     },
     "metadata": {},
     "output_type": "display_data"
    },
    {
     "data": {
      "text/html": [],
      "text/plain": [
       "<IPython.core.display.HTML object>"
      ]
     },
     "metadata": {},
     "output_type": "display_data"
    }
   ],
   "source": [
    "Demo(learn).launch(title=\"Pet classification\", description=\"Classify pets into 1 of 37 classes\", examples=[[\"images/dog.png\"]])"
   ]
  },
  {
   "cell_type": "markdown",
   "id": "29c2b64f",
   "metadata": {},
   "source": [
    "In addition to all the parameters in [`gradio.Interface()`](https://gradio.app/docs#interface), `launch()` also takes `share` (whether to create an external link or run locally), `debug` (set this to `True` to see errors in colab), and `auth` (If provided, username and password (or list of username-password tuples) required to access interface."
   ]
  }
 ],
 "metadata": {
  "kernelspec": {
   "display_name": "Python 3 (ipykernel)",
   "language": "python",
   "name": "python3"
  },
  "language_info": {
   "codemirror_mode": {
    "name": "ipython",
    "version": 3
   },
   "file_extension": ".py",
   "mimetype": "text/x-python",
   "name": "python",
   "nbconvert_exporter": "python",
   "pygments_lexer": "ipython3",
   "version": "3.8.2"
  }
 },
 "nbformat": 4,
 "nbformat_minor": 5
}
